{
  "nbformat": 4,
  "nbformat_minor": 0,
  "metadata": {
    "colab": {
      "name": "AnimeFaceRecognition.ipynb",
      "provenance": [],
      "collapsed_sections": [],
      "authorship_tag": "ABX9TyPqyo04npevb45Ph6aGSzzG",
      "include_colab_link": true
    },
    "kernelspec": {
      "name": "python3",
      "display_name": "Python 3"
    },
    "accelerator": "GPU"
  },
  "cells": [
    {
      "cell_type": "markdown",
      "metadata": {
        "id": "view-in-github",
        "colab_type": "text"
      },
      "source": [
        "<a href=\"https://colab.research.google.com/github/NaveenBandarage/AIWorld/blob/master/AnimeFaceRecognition.ipynb\" target=\"_parent\"><img src=\"https://colab.research.google.com/assets/colab-badge.svg\" alt=\"Open In Colab\"/></a>"
      ]
    },
    {
      "cell_type": "code",
      "metadata": {
        "id": "qWfDgU10I7nr",
        "colab_type": "code",
        "colab": {
          "base_uri": "https://localhost:8080/",
          "height": 309
        },
        "outputId": "a51df1d9-be8d-49a0-d95e-ff6874c06691"
      },
      "source": [
        "pip install face_recognition"
      ],
      "execution_count": 1,
      "outputs": [
        {
          "output_type": "stream",
          "text": [
            "Collecting face_recognition\n",
            "  Downloading https://files.pythonhosted.org/packages/1e/95/f6c9330f54ab07bfa032bf3715c12455a381083125d8880c43cbe76bb3d0/face_recognition-1.3.0-py2.py3-none-any.whl\n",
            "Requirement already satisfied: Click>=6.0 in /usr/local/lib/python3.6/dist-packages (from face_recognition) (7.1.2)\n",
            "Requirement already satisfied: dlib>=19.7 in /usr/local/lib/python3.6/dist-packages (from face_recognition) (19.18.0)\n",
            "Requirement already satisfied: numpy in /usr/local/lib/python3.6/dist-packages (from face_recognition) (1.18.4)\n",
            "Requirement already satisfied: Pillow in /usr/local/lib/python3.6/dist-packages (from face_recognition) (7.0.0)\n",
            "Collecting face-recognition-models>=0.3.0\n",
            "\u001b[?25l  Downloading https://files.pythonhosted.org/packages/cf/3b/4fd8c534f6c0d1b80ce0973d01331525538045084c73c153ee6df20224cf/face_recognition_models-0.3.0.tar.gz (100.1MB)\n",
            "\u001b[K     |████████████████████████████████| 100.2MB 100kB/s \n",
            "\u001b[?25hBuilding wheels for collected packages: face-recognition-models\n",
            "  Building wheel for face-recognition-models (setup.py) ... \u001b[?25l\u001b[?25hdone\n",
            "  Created wheel for face-recognition-models: filename=face_recognition_models-0.3.0-py2.py3-none-any.whl size=100566172 sha256=75923669678b3e756c55d4db634ab2e51d38b954606e316ea2194fee74d4c53e\n",
            "  Stored in directory: /root/.cache/pip/wheels/d2/99/18/59c6c8f01e39810415c0e63f5bede7d83dfb0ffc039865465f\n",
            "Successfully built face-recognition-models\n",
            "Installing collected packages: face-recognition-models, face-recognition\n",
            "Successfully installed face-recognition-1.3.0 face-recognition-models-0.3.0\n"
          ],
          "name": "stdout"
        }
      ]
    },
    {
      "cell_type": "code",
      "metadata": {
        "id": "txgnX9GIJcZH",
        "colab_type": "code",
        "colab": {
          "base_uri": "https://localhost:8080/",
          "height": 241
        },
        "outputId": "2a76d665-461b-489b-fa2f-5524839ece06"
      },
      "source": [
        "!mkdir knownFaces\n",
        "!wget https://vignette.wikia.nocookie.net/naruto/images/0/09/Naruto_newshot.png/revision/latest/scale-to-width-down/340?cb=20170621101134 -O knownFaces/Naruto.jpg\n"
      ],
      "execution_count": 6,
      "outputs": [
        {
          "output_type": "stream",
          "text": [
            "mkdir: cannot create directory ‘knownFaces’: File exists\n",
            "--2020-05-31 09:57:54--  https://vignette.wikia.nocookie.net/naruto/images/0/09/Naruto_newshot.png/revision/latest/scale-to-width-down/340?cb=20170621101134\n",
            "Resolving vignette.wikia.nocookie.net (vignette.wikia.nocookie.net)... 74.120.184.204, 74.120.184.194\n",
            "Connecting to vignette.wikia.nocookie.net (vignette.wikia.nocookie.net)|74.120.184.204|:443... connected.\n",
            "HTTP request sent, awaiting response... 200 OK\n",
            "Length: 117380 (115K) [image/png]\n",
            "Saving to: ‘knownFaces/Naruto.jpg’\n",
            "\n",
            "knownFaces/Naruto.j 100%[===================>] 114.63K  --.-KB/s    in 0.07s   \n",
            "\n",
            "2020-05-31 09:57:55 (1.62 MB/s) - ‘knownFaces/Naruto.jpg’ saved [117380/117380]\n",
            "\n"
          ],
          "name": "stdout"
        }
      ]
    },
    {
      "cell_type": "code",
      "metadata": {
        "id": "GKyjGJsmKuxy",
        "colab_type": "code",
        "colab": {
          "base_uri": "https://localhost:8080/",
          "height": 224
        },
        "outputId": "87a5b6f2-d85d-4055-87a8-aeb5d422aef2"
      },
      "source": [
        "!mkdir unknownFaces\n",
        "!wget https://s1.narvii.com/image/wxqgkp4ztk7wikge4k33nl3hixtvwvit_hq.jpg -O unknownFaces/unknown1.jpg"
      ],
      "execution_count": 7,
      "outputs": [
        {
          "output_type": "stream",
          "text": [
            "--2020-05-31 09:59:07--  https://s1.narvii.com/image/wxqgkp4ztk7wikge4k33nl3hixtvwvit_hq.jpg\n",
            "Resolving s1.narvii.com (s1.narvii.com)... 13.224.13.35, 13.224.13.110, 13.224.13.4, ...\n",
            "Connecting to s1.narvii.com (s1.narvii.com)|13.224.13.35|:443... connected.\n",
            "HTTP request sent, awaiting response... 200 OK\n",
            "Length: 57412 (56K) [image/jpeg]\n",
            "Saving to: ‘unknownFaces/unknown1.jpg’\n",
            "\n",
            "\r          unknownFa   0%[                    ]       0  --.-KB/s               \runknownFaces/unknow 100%[===================>]  56.07K  --.-KB/s    in 0.02s   \n",
            "\n",
            "2020-05-31 09:59:07 (3.46 MB/s) - ‘unknownFaces/unknown1.jpg’ saved [57412/57412]\n",
            "\n"
          ],
          "name": "stdout"
        }
      ]
    },
    {
      "cell_type": "code",
      "metadata": {
        "id": "Mvr9c0PdLA18",
        "colab_type": "code",
        "colab": {}
      },
      "source": [
        "import face_recognition\n",
        "import cv2\n",
        "import os\n",
        "from google.colab.patches import cv2_imshow\n",
        "\n",
        "def readImage(path):\n",
        "  img = cv2.imread(path)\n",
        "  (h, w) = img.shape[:2]\n",
        "  width = 400\n",
        "  ratio = width / float(w)\n",
        "  height = int(h * ratio)\n",
        "  return cv2.resize(img, (width, height))\n",
        "\n",
        "knownEncodings = []\n",
        "knownNames = []\n",
        "knownDir = 'knownFaces'\n",
        "\n",
        "for file in os.list"
      ],
      "execution_count": 0,
      "outputs": []
    }
  ]
}